{
 "cells": [
  {
   "cell_type": "markdown",
   "metadata": {},
   "source": [
    "# Probability of getting desired outcome"
   ]
  },
  {
   "cell_type": "code",
   "execution_count": 66,
   "metadata": {},
   "outputs": [
    {
     "name": "stdout",
     "output_type": "stream",
     "text": [
      "0.0271\n",
      "0.0278\n",
      "0.009066666666666666\n",
      "0.0093\n",
      "0.0099\n",
      "0.0092\n",
      "0.1207\n",
      "0.0249\n"
     ]
    }
   ],
   "source": [
    "import random\n",
    "def prob_calculator(prob_head, num_trials, flips_p_trial=3, desired_outcomes=[[1,1,0],[1,0,1],[0,1,1]], p_of_all=True):\n",
    "    \"\"\"arg1 is the probability of getting a heads\n",
    "    arg2 is the number of times to try to meet the desired outcomes\n",
    "    arg3 is the number of times to flip the coin per trial must match length of lists in desired_outcomes\n",
    "    arg4 is a list of desired outcomes with 1 representing heads and 0 representing tails\n",
    "    arg5 defines if you want the propability of all your desired outcomes True=(P(a)+P(b)+P(c))\n",
    "        or the average False=((P(a)+P(b)+P(c))/len(desired_outcomes))\"\"\"\n",
    "    total = 0\n",
    "    for i in range(num_trials):\n",
    "        if trial(prob_head, flips_p_trial) in desired_outcomes:\n",
    "            total += 1\n",
    "    if p_of_all is True:\n",
    "        return total/num_trials\n",
    "    else:\n",
    "        return total/num_trials/len(desired_outcomes)\n",
    "\n",
    "def trial(prob_head, flips):\n",
    "    event = [1, 0]\n",
    "    probability = [prob_head, 1 - prob_head]\n",
    "    outcome = []\n",
    "    for i in range(flips):\n",
    "        outcome.append(random.choices(event, probability)[0])\n",
    "    return outcome\n",
    "    \n",
    "\n",
    "\n",
    "if __name__ == '__main__':\n",
    "    # these first two should output around 0.027 because they calculate\n",
    "    # the probability of any combination with 2 heads 1 tail which is 3(0.1^2(1-0.1))\n",
    "    # they actually do the exact same thing\n",
    "    print(prob_calculator(0.10, 10000))\n",
    "    print(prob_calculator(0.10, 10000, 3, [[1,1,0],[1,0,1],[0,1,1]], True))\n",
    "    # this next one should output around 0.009 because it takes the average of all the possible \n",
    "    # probabilities that include 2 heads 1 tail or 3(0.1^2(1-0.1))/3\n",
    "    print(prob_calculator(0.10, 10000, 3, [[1,1,0],[1,0,1],[0,1,1]], False))\n",
    "    # these next three should return around 0.009 because they calculate \n",
    "    # the probability of an individaul combination of 2 heads 1 tail or (0.1^2(1-0.1))\n",
    "    print(prob_calculator(0.10, 10000, 3, [[1,1,0]]))\n",
    "    print(prob_calculator(0.10, 10000, 3, [[1,0,1]]))\n",
    "    print(prob_calculator(0.10, 10000, 3, [[0,1,1]]))\n",
    "    # this one should return 0.125 or a^2(a-1) or 0.5*0.5*0.5\n",
    "    print(prob_calculator(0.50, 10000, 3, [[1,1,0]]))\n",
    "    # this next one should be around 0.0256 or a^2(a-1)^2 or 0.2*0.8*0.8*0.2\n",
    "    print(prob_calculator(0.2, 10000, 4, [[0,1,1,0]]))\n",
    "    \n",
    "    "
   ]
  }
 ],
 "metadata": {
  "kernelspec": {
   "display_name": "evn",
   "language": "python",
   "name": "evn"
  },
  "language_info": {
   "codemirror_mode": {
    "name": "ipython",
    "version": 3
   },
   "file_extension": ".py",
   "mimetype": "text/x-python",
   "name": "python",
   "nbconvert_exporter": "python",
   "pygments_lexer": "ipython3",
   "version": "3.7.4"
  }
 },
 "nbformat": 4,
 "nbformat_minor": 2
}
